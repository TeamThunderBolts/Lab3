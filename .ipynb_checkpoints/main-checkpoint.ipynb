{
 "cells": [
  {
   "cell_type": "code",
   "execution_count": 7,
   "id": "46f317b5",
   "metadata": {},
   "outputs": [],
   "source": [
    "from random import random\n",
    "import numpy as np\n",
    "import time"
   ]
  },
  {
   "cell_type": "code",
   "execution_count": 8,
   "id": "0ec89046",
   "metadata": {},
   "outputs": [],
   "source": [
    "def tsp_read(nodes):\n",
    "    infile = open(nodes, 'r')\n",
    "    content = infile.readline().strip().split()\n",
    "    print(\"File Name: \", content[2])\n",
    "\n",
    "    while content[0] != 'NODE_COORD_SECTION':\n",
    "        if(content[0] == 'DIMENSION'):\n",
    "            dimension = content[2]\n",
    "        content = infile.readline().strip().split()\n",
    "    nodelist = []\n",
    "    placelist = []\n",
    "    print('Dimension', dimension)\n",
    "    N = int(dimension)\n",
    "    for i in range(0, N):\n",
    "        x, y, z = infile.readline().strip().split()[:]\n",
    "        nodelist.append([float(y), float(z)])\n",
    "        placelist.append(x)\n",
    "    \n",
    "    infile.close()\n",
    "    return nodelist, placelist"
   ]
  },
  {
   "cell_type": "code",
   "execution_count": null,
   "id": "0c054f63",
   "metadata": {},
   "outputs": [],
   "source": [
    "def euclidean_distance(nodes, n1, n2):\n",
    "    distance = sqrt((nodes[n1][0]-nodes[n2][0])**2 + (nodes[n1][1]-nodes[n2][1])**2)\n",
    "    return distance"
   ]
  },
  {
   "cell_type": "code",
   "execution_count": null,
   "id": "49bdfe84",
   "metadata": {},
   "outputs": [],
   "source": [
    "def cooling_function(T):\n",
    "    return T * 0.9"
   ]
  },
  {
   "cell_type": "code",
   "execution_count": null,
   "id": "376d628a",
   "metadata": {},
   "outputs": [],
   "source": [
    "def simulated_annealing(nodes):\n",
    "    unvisited = nodes\n",
    "    initial = random.randint(0, len(nodes)-1)\n",
    "    pathlist = []\n",
    "    pathlist.append(nodes[initial])\n",
    "    unvisited.pop(initial)\n",
    "    T = 50\n",
    "    bestnode = initial\n",
    "    while len(unvisited) != 0:\n",
    "        idx = random.randint(0, len(unvisited)-1)\n",
    "        neighbour = unvisited[idx]\n",
    "        delE = euclidean_distance(nodes, initial, idx)\n",
    "        prob = 1 / (1 + exp(delE / T))\n",
    "        if random.random() < prob:\n",
    "            \n",
    "        "
   ]
  },
  {
   "cell_type": "code",
   "execution_count": 9,
   "id": "18052304",
   "metadata": {},
   "outputs": [
    {
     "name": "stdout",
     "output_type": "stream",
     "text": [
      "File Name:  Rajasthan\n",
      "Dimension 20\n"
     ]
    }
   ],
   "source": [
    "def main():\n",
    "    # generate_random_coords(100)\n",
    "    nodes, place = tsp_read(\"Data/Rajasthan.tsp\")\n",
    "    coords = np.array(nodes)\n",
    "    n = len(coords)\n",
    "    start = time.time_ns()\n",
    "#     sa = SimAnneal(coords, place, stopping_iter=n*10000000)\n",
    "    end = time.time_ns()\n",
    "#     print('Execution Time', end-start)\n",
    "#     sa.simulated_annealing()\n",
    "#     sa.display_optimal_path()\n",
    "#     sa.animateSolutions()\n",
    "#     sa.plot_learning()\n",
    "\n",
    "\n",
    "if __name__ == \"__main__\":\n",
    "    main()"
   ]
  },
  {
   "cell_type": "code",
   "execution_count": null,
   "id": "30dab9dd",
   "metadata": {},
   "outputs": [],
   "source": []
  }
 ],
 "metadata": {
  "kernelspec": {
   "display_name": "Python 3 (ipykernel)",
   "language": "python",
   "name": "python3"
  },
  "language_info": {
   "codemirror_mode": {
    "name": "ipython",
    "version": 3
   },
   "file_extension": ".py",
   "mimetype": "text/x-python",
   "name": "python",
   "nbconvert_exporter": "python",
   "pygments_lexer": "ipython3",
   "version": "3.9.13"
  }
 },
 "nbformat": 4,
 "nbformat_minor": 5
}
