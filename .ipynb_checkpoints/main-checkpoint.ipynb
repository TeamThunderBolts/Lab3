{
 "cells": [
  {
   "cell_type": "code",
   "execution_count": 1,
   "id": "46f317b5",
   "metadata": {},
   "outputs": [],
   "source": [
    "from random import random,sample\n",
    "import numpy as np\n",
    "import time\n",
    "import math\n",
    "import matplotlib.pyplot as plt\n",
    "from haversine import haversine"
   ]
  },
  {
   "cell_type": "code",
   "execution_count": 2,
   "id": "0ec89046",
   "metadata": {},
   "outputs": [],
   "source": [
    "def tsp_read(nodes):\n",
    "    infile = open(nodes, 'r')\n",
    "    content = infile.readline().strip().split()\n",
    "    print(\"File Name: \", content[2])\n",
    "\n",
    "    while content[0] != 'NODE_COORD_SECTION':\n",
    "        if(content[0] == 'DIMENSION'):\n",
    "            dimension = content[2]\n",
    "        content = infile.readline().strip().split()\n",
    "    nodelist = []\n",
    "    placelist = []\n",
    "    print('Dimension', dimension)\n",
    "    N = int(dimension)\n",
    "    for i in range(0, N):\n",
    "        x, y, z = infile.readline().strip().split()[:]\n",
    "        nodelist.append([float(y), float(z)])\n",
    "        placelist.append(x)\n",
    "    \n",
    "    infile.close()\n",
    "    return nodelist, placelist"
   ]
  },
  {
   "cell_type": "code",
   "execution_count": 3,
   "id": "0c054f63",
   "metadata": {},
   "outputs": [],
   "source": [
    "def euclidean_distance(nodes, n1, n2):\n",
    "    distance = math.sqrt((nodes[n1][0]-nodes[n2][0])**2 + (nodes[n1][1]-nodes[n2][1])**2)\n",
    "    return distance"
   ]
  },
  {
   "cell_type": "code",
   "execution_count": 4,
   "id": "e5a08571",
   "metadata": {},
   "outputs": [],
   "source": [
    "def global_distance(nodes,n1,n2):\n",
    "    distance = haversine((nodes[n1][0],nodes[n1][1]), (nodes[n2][0],nodes[n2][1]), unit='mi')\n",
    "    return distance"
   ]
  },
  {
   "cell_type": "code",
   "execution_count": 5,
   "id": "49bdfe84",
   "metadata": {},
   "outputs": [],
   "source": [
    "def cooling_function(T):\n",
    "    return T * 0.9999"
   ]
  },
  {
   "cell_type": "code",
   "execution_count": 6,
   "id": "971b07a1",
   "metadata": {},
   "outputs": [],
   "source": [
    "def get_path_cost(dist, path):\n",
    "    cost = 0\n",
    "    length = len(path)\n",
    "    for i in range(length):\n",
    "        cost = cost + dist[path[i], path[(i+1) % length]]\n",
    "    return cost"
   ]
  },
  {
   "cell_type": "code",
   "execution_count": 7,
   "id": "522523d2",
   "metadata": {},
   "outputs": [],
   "source": [
    "def part_reversal(path, i, j):\n",
    "    while (j > i):\n",
    "        path[i], path[j] = path[j], path[i]\n",
    "        i += 1\n",
    "        j -= 1\n",
    "    return path"
   ]
  },
  {
   "cell_type": "code",
   "execution_count": 8,
   "id": "376d628a",
   "metadata": {},
   "outputs": [],
   "source": [
    "def simulated_annealing(nodes, dist, n):\n",
    "    # Initial Path\n",
    "    path = np.random.permutation(n)\n",
    "    path_cost = get_path_cost(dist, path)\n",
    "    initial_path = path\n",
    "    print(\"path cost before simulated annealing \", path_cost)\n",
    "    iteration = 1000000\n",
    "    temperature = 10000\n",
    "    ran = 0.5\n",
    "    for i in range(iteration):\n",
    "        rev = sample(range(len(nodes)),2)\n",
    "        newpath = path.copy()\n",
    "        newpath[rev[0]:rev[1]+1] = newpath[rev[0]:rev[1]+1][::-1] # reverse sublist\n",
    "        new_pathcost = get_path_cost(dist, newpath)\n",
    "        \n",
    "        delE = path_cost - new_pathcost\n",
    "        try:\n",
    "            prob = 1 / (1 + math.exp(-delE / temperature))\n",
    "        except OverflowError:\n",
    "            prob = 0\n",
    "        if delE > 0:\n",
    "            path = newpath.copy()\n",
    "            path_cost = new_pathcost\n",
    "        elif random() < prob:\n",
    "            path = newpath.copy()\n",
    "            path_cost = new_pathcost\n",
    "        temperature = cooling_function(temperature)\n",
    "        if(temperature < 1e-8):\n",
    "            print(i)\n",
    "            break\n",
    "    return path, path_cost, initial_path"
   ]
  },
  {
   "cell_type": "code",
   "execution_count": 9,
   "id": "0ee81cf6",
   "metadata": {},
   "outputs": [],
   "source": [
    "def graph(nodes, path, iterator, j, axs):\n",
    "    X = []\n",
    "    Y = []\n",
    "    length = len(path)\n",
    "    for i in range(length):\n",
    "        X.append(nodes[path[i]][0])\n",
    "        Y.append(nodes[path[i]][1])\n",
    "    X.append(nodes[path[0]][0])\n",
    "    Y.append(nodes[path[0]][1])\n",
    "    axs[iterator, j].plot(X,Y)\n"
   ]
  },
  {
   "cell_type": "code",
   "execution_count": null,
   "id": "18052304",
   "metadata": {},
   "outputs": [
    {
     "name": "stdout",
     "output_type": "stream",
     "text": [
      "File Name:  Rajasthan\n",
      "Dimension 20\n",
      "path cost before simulated annealing  3367.4685437963903\n",
      "276296\n",
      "Execution Time: 2557286312\n",
      "Initial Path: [ 9 14 16 17 12 15  6  8 18  5 11 10  0 19  4 13  3  2  1  7]\n",
      "Best Path: [ 4  1 17 13 16  7 14 18 10  9  8  2  5 12  0 19  3  6 11 15]\n",
      "Best Cost: 1297.0783650384117\n",
      "File Name:  xqf131\n",
      "Dimension 131\n",
      "path cost before simulated annealing  4792.603770786828\n",
      "276296\n",
      "Execution Time: 9981289272\n",
      "Initial Path: [ 44  97  50   3  48  54  83  16  26  53 103 124  81  96  18  60  76  33\n",
      "  86  66  85 104  99 114  67  47  35  40 112  49  13 105 121 119  32  14\n",
      "  72 130  95  10 109  69 116 125  39  36  25  59 102   0  77 129  30   6\n",
      "  88  75  65 113   7  42 120  62  98 108  73  12  45 123  82  57 126  38\n",
      "  24  37 127   9  43  58  19   4  92   5  61 110  91  46 111  27  17  80\n",
      "  34 118  11 107   8  89  23  70  56   2  55 106  29  52  93  28  51  84\n",
      "  63  71 115 128  90  21 101  74  15 117  22  64  79   1 100  20  78  94\n",
      " 122  68  41  87  31]\n",
      "Best Path: [ 92  86  87  81  80  68  64  61  69  65  62  66  70  75  78  79  82  83\n",
      "  84  85  72  71  56  55  48  49  50  51  57  58  59  60  43  42  41  40\n",
      "  39  38  37  22  23  10   3   9   8   2   1   7   6   0   5  15  14  13\n",
      "  11   4  12  17  24  16  18  25  26  27  28  29  19  20  21  36  35  34\n",
      "  33  32  31  30  47  46  54  45  44  52  53  63  67  74  77  76  73  88\n",
      "  97 111  99 100 104 113 117 120 122 129 130 127 128 121 116 119 115 110\n",
      " 102 103  96  90  89  94  95 109 114 118 126 125 124 123 112 106 105 101\n",
      " 107 108  98  93  91]\n",
      "Best Cost: 641.499563465375\n",
      "File Name:  xqg237\n",
      "Dimension 237\n",
      "path cost before simulated annealing  12113.052958279048\n"
     ]
    }
   ],
   "source": [
    "def main():\n",
    "    datalist = [\n",
    "        \"Data/Rajasthan.tsp\", \n",
    "        \"Data/xqf131.tsp\",\n",
    "        \"Data/xqg237.tsp\", \n",
    "        \"Data/pma343.tsp\",\n",
    "        \"Data/pka379.tsp\",\n",
    "        \"Data/bcl380.tsp\",\n",
    "        \"Data/pbl395.tsp\",\n",
    "        \"Data/pbk411.tsp\",\n",
    "        \"Data/pbn423.tsp\",\n",
    "        \"Data/pbm436.tsp\",\n",
    "        \"Data/xql662.tsp\",\n",
    "        \"Data/rbx711.tsp\",\n",
    "        \"Data/rbu737.tsp\",\n",
    "        \"Data/dkg813.tsp\",\n",
    "        \"Data/lim963.tsp\",\n",
    "        \"Data/pbd984.tsp\",\n",
    "        \"Data/xit1083.tsp\",\n",
    "        \"Data/dka1376.tsp\",\n",
    "        \"Data/dca1389.tsp\",\n",
    "        \"Data/dja1436.tsp\",\n",
    "        \"Data/icw1483.tsp\"\n",
    "    ]\n",
    "    fig = plt.figure(figsize=(10, 10))\n",
    "    gs = fig.add_gridspec(len(datalist), 2, hspace = 0.3)\n",
    "    axs = gs.subplots()\n",
    "    fig.suptitle(\"DataSets\")\n",
    "    iterator = 0\n",
    "    for d in datalist:\n",
    "        nodes, place = tsp_read(d)\n",
    "        coords = np.array(nodes) \n",
    "        n = len(coords)\n",
    "        # Distance Array\n",
    "        dist = np.zeros((n, n), dtype=float)\n",
    "\n",
    "        for i in range(n):\n",
    "            for j in range(i+1, n):\n",
    "                if d == \"Data/Rajasthan.tsp\":\n",
    "                    dist[i, j] = global_distance(nodes, i, j)\n",
    "                else:\n",
    "                    dist[i, j] = euclidean_distance(nodes, i, j)\n",
    "                dist[j, i] = dist[i, j]\n",
    "\n",
    "        start = time.time_ns()\n",
    "        best_path, best_cost, initial_path = simulated_annealing(nodes, dist, n)\n",
    "        end = time.time_ns()\n",
    "        print('Execution Time:', end-start)\n",
    "        print('Initial Path:', initial_path)\n",
    "        print('Best Path:', best_path)\n",
    "        print('Best Cost:', best_cost)\n",
    "        graph(nodes, initial_path,iterator, 0, axs)\n",
    "        graph(nodes, best_path, iterator, 1, axs)\n",
    "        iterator += 1\n",
    "        plt.show\n",
    "\n",
    "\n",
    "if __name__ == \"__main__\":\n",
    "    main()"
   ]
  },
  {
   "cell_type": "code",
   "execution_count": null,
   "id": "bef054c7",
   "metadata": {},
   "outputs": [],
   "source": []
  }
 ],
 "metadata": {
  "kernelspec": {
   "display_name": "Python 3 (ipykernel)",
   "language": "python",
   "name": "python3"
  },
  "language_info": {
   "codemirror_mode": {
    "name": "ipython",
    "version": 3
   },
   "file_extension": ".py",
   "mimetype": "text/x-python",
   "name": "python",
   "nbconvert_exporter": "python",
   "pygments_lexer": "ipython3",
   "version": "3.9.13"
  }
 },
 "nbformat": 4,
 "nbformat_minor": 5
}
