{
 "cells": [
  {
   "cell_type": "code",
   "execution_count": 213,
   "id": "46f317b5",
   "metadata": {},
   "outputs": [],
   "source": [
    "from random import random\n",
    "import numpy as np\n",
    "import time\n",
    "import math\n",
    "import matplotlib.pyplot as plt"
   ]
  },
  {
   "cell_type": "code",
   "execution_count": 10,
   "id": "0ec89046",
   "metadata": {},
   "outputs": [],
   "source": [
    "def tsp_read(nodes):\n",
    "    infile = open(nodes, 'r')\n",
    "    content = infile.readline().strip().split()\n",
    "    print(\"File Name: \", content[2])\n",
    "\n",
    "    while content[0] != 'NODE_COORD_SECTION':\n",
    "        if(content[0] == 'DIMENSION'):\n",
    "            dimension = content[2]\n",
    "        content = infile.readline().strip().split()\n",
    "    nodelist = []\n",
    "    placelist = []\n",
    "    print('Dimension', dimension)\n",
    "    N = int(dimension)\n",
    "    for i in range(0, N):\n",
    "        x, y, z = infile.readline().strip().split()[:]\n",
    "        nodelist.append([float(y), float(z)])\n",
    "        placelist.append(x)\n",
    "    \n",
    "    infile.close()\n",
    "    return nodelist, placelist"
   ]
  },
  {
   "cell_type": "code",
   "execution_count": 11,
   "id": "0c054f63",
   "metadata": {},
   "outputs": [],
   "source": [
    "def euclidean_distance(nodes, n1, n2):\n",
    "    distance = math.sqrt((nodes[n1][0]-nodes[n2][0])**2 + (nodes[n1][1]-nodes[n2][1])**2)\n",
    "    return distance"
   ]
  },
  {
   "cell_type": "code",
   "execution_count": 159,
   "id": "49bdfe84",
   "metadata": {},
   "outputs": [],
   "source": [
    "def cooling_function(T):\n",
    "    return T * 0.995"
   ]
  },
  {
   "cell_type": "code",
   "execution_count": 160,
   "id": "971b07a1",
   "metadata": {},
   "outputs": [],
   "source": [
    "def get_path_cost(dist, path):\n",
    "    cost = 0\n",
    "    length = len(path)\n",
    "    for i in range(length):\n",
    "        cost = cost + dist[path[i], path[(i+1) % length]]\n",
    "    return cost"
   ]
  },
  {
   "cell_type": "code",
   "execution_count": 161,
   "id": "522523d2",
   "metadata": {},
   "outputs": [],
   "source": [
    "def part_reversal(path, i, j):\n",
    "    while (j > i):\n",
    "        path[i], path[j] = path[j], path[i]\n",
    "        i += 1\n",
    "        j -= 1\n",
    "    return path"
   ]
  },
  {
   "cell_type": "code",
   "execution_count": 210,
   "id": "376d628a",
   "metadata": {},
   "outputs": [],
   "source": [
    "def simulated_annealing(nodes, dist, n):\n",
    "    # Initial Path\n",
    "    path = np.random.permutation(n)\n",
    "    path_cost = get_path_cost(dist, path)\n",
    "    print(\"path cost before simulated annealing \", path_cost)\n",
    "    iteration = 50000\n",
    "    temperature = 1000\n",
    "    ran = 0.5\n",
    "#     print(ran)\n",
    "    for i in range(iteration):\n",
    "        rev = np.random.choice(n, size=2)\n",
    "        newpath = part_reversal(path, min(rev[0], rev[1]), max(rev[0], rev[1]))\n",
    "        new_pathcost = get_path_cost(dist, newpath)\n",
    "#         print(\"new path cost\", new_pathcost)\n",
    "#         print(\"new path\", newpath)\n",
    "#         print(\"new path cost\", new_pathcost)\n",
    "        delE = path_cost - new_pathcost\n",
    "        try:\n",
    "            prob = 1 / (1 + math.exp(-delE / temperature))\n",
    "        except OverflowError:\n",
    "            prob = 0\n",
    "#         absprint(delE, temperature)\n",
    "        if delE > 0:\n",
    "            path = newpath\n",
    "            path_cost = new_pathcost\n",
    "        elif ran < prob:\n",
    "            path = newpath\n",
    "            path_cost = new_pathcost\n",
    "#         print(path, path_cost)\n",
    "#         temperature = cooling_function(temperature)\n",
    "        temperature = temperature / (i+1)\n",
    "#         if(temperature < 0.1):\n",
    "#             temperature = 0.1\n",
    "    return path, path_cost"
   ]
  },
  {
   "cell_type": "code",
   "execution_count": 237,
   "id": "0ee81cf6",
   "metadata": {},
   "outputs": [],
   "source": [
    "def connectpoints(x,y,p1,p2):\n",
    "    x1, x2 = x[p1], x[p2]\n",
    "    y1, y2 = y[p1], y[p2]\n",
    "    plt.plot([x1,x2],[y1,y2],'k-')\n",
    "\n",
    "def graph(nodes, path):\n",
    "    prev = nodes[0]\n",
    "    for i in nodes:\n",
    "        plt.plot(i[0], i[1], 'co-')\n",
    "        connectpoints(i[0], i[1], prev[0], prev[1])\n",
    "        prev = i\n",
    "        \n",
    "    \n",
    "#     print(nodes[:][0:])\n",
    "#     plt.plot(nodes[][0], nodes[:1])"
   ]
  },
  {
   "cell_type": "code",
   "execution_count": 238,
   "id": "18052304",
   "metadata": {},
   "outputs": [
    {
     "name": "stdout",
     "output_type": "stream",
     "text": [
      "File Name:  Rajasthan\n",
      "Dimension 20\n",
      "path cost before simulated annealing  54.95981063799745\n"
     ]
    },
    {
     "name": "stderr",
     "output_type": "stream",
     "text": [
      "/tmp/ipykernel_7090/971839988.py:19: RuntimeWarning: overflow encountered in double_scalars\n",
      "  prob = 1 / (1 + math.exp(-delE / temperature))\n",
      "/tmp/ipykernel_7090/971839988.py:19: RuntimeWarning: divide by zero encountered in double_scalars\n",
      "  prob = 1 / (1 + math.exp(-delE / temperature))\n"
     ]
    },
    {
     "name": "stdout",
     "output_type": "stream",
     "text": [
      "Execution Time: 969504602\n",
      "Best Path: [ 2 18  1 15  0 17  4  7 16 12 14  8  6  5  3  9 11 19 10 13]\n",
      "Best Cost: 34.837775636835026\n"
     ]
    },
    {
     "ename": "TypeError",
     "evalue": "'float' object is not subscriptable",
     "output_type": "error",
     "traceback": [
      "\u001b[0;31m---------------------------------------------------------------------------\u001b[0m",
      "\u001b[0;31mTypeError\u001b[0m                                 Traceback (most recent call last)",
      "\u001b[0;32m/tmp/ipykernel_7090/1797692447.py\u001b[0m in \u001b[0;36m<module>\u001b[0;34m\u001b[0m\n\u001b[1;32m     26\u001b[0m \u001b[0;34m\u001b[0m\u001b[0m\n\u001b[1;32m     27\u001b[0m \u001b[0;32mif\u001b[0m \u001b[0m__name__\u001b[0m \u001b[0;34m==\u001b[0m \u001b[0;34m\"__main__\"\u001b[0m\u001b[0;34m:\u001b[0m\u001b[0;34m\u001b[0m\u001b[0;34m\u001b[0m\u001b[0m\n\u001b[0;32m---> 28\u001b[0;31m     \u001b[0mmain\u001b[0m\u001b[0;34m(\u001b[0m\u001b[0;34m)\u001b[0m\u001b[0;34m\u001b[0m\u001b[0;34m\u001b[0m\u001b[0m\n\u001b[0m",
      "\u001b[0;32m/tmp/ipykernel_7090/1797692447.py\u001b[0m in \u001b[0;36mmain\u001b[0;34m()\u001b[0m\n\u001b[1;32m     18\u001b[0m     \u001b[0mprint\u001b[0m\u001b[0;34m(\u001b[0m\u001b[0;34m'Best Path:'\u001b[0m\u001b[0;34m,\u001b[0m \u001b[0mbest_path\u001b[0m\u001b[0;34m)\u001b[0m\u001b[0;34m\u001b[0m\u001b[0;34m\u001b[0m\u001b[0m\n\u001b[1;32m     19\u001b[0m     \u001b[0mprint\u001b[0m\u001b[0;34m(\u001b[0m\u001b[0;34m'Best Cost:'\u001b[0m\u001b[0;34m,\u001b[0m \u001b[0mbest_cost\u001b[0m\u001b[0;34m)\u001b[0m\u001b[0;34m\u001b[0m\u001b[0;34m\u001b[0m\u001b[0m\n\u001b[0;32m---> 20\u001b[0;31m     \u001b[0mgraph\u001b[0m\u001b[0;34m(\u001b[0m\u001b[0mnodes\u001b[0m\u001b[0;34m,\u001b[0m \u001b[0mbest_path\u001b[0m\u001b[0;34m)\u001b[0m\u001b[0;34m\u001b[0m\u001b[0;34m\u001b[0m\u001b[0m\n\u001b[0m\u001b[1;32m     21\u001b[0m \u001b[0;31m#     sa.simulated_annealing()\u001b[0m\u001b[0;34m\u001b[0m\u001b[0;34m\u001b[0m\u001b[0m\n\u001b[1;32m     22\u001b[0m \u001b[0;31m#     sa.display_optimal_path()\u001b[0m\u001b[0;34m\u001b[0m\u001b[0;34m\u001b[0m\u001b[0m\n",
      "\u001b[0;32m/tmp/ipykernel_7090/3760185066.py\u001b[0m in \u001b[0;36mgraph\u001b[0;34m(nodes, path)\u001b[0m\n\u001b[1;32m      8\u001b[0m     \u001b[0;32mfor\u001b[0m \u001b[0mi\u001b[0m \u001b[0;32min\u001b[0m \u001b[0mnodes\u001b[0m\u001b[0;34m:\u001b[0m\u001b[0;34m\u001b[0m\u001b[0;34m\u001b[0m\u001b[0m\n\u001b[1;32m      9\u001b[0m         \u001b[0mplt\u001b[0m\u001b[0;34m.\u001b[0m\u001b[0mplot\u001b[0m\u001b[0;34m(\u001b[0m\u001b[0mi\u001b[0m\u001b[0;34m[\u001b[0m\u001b[0;36m0\u001b[0m\u001b[0;34m]\u001b[0m\u001b[0;34m,\u001b[0m \u001b[0mi\u001b[0m\u001b[0;34m[\u001b[0m\u001b[0;36m1\u001b[0m\u001b[0;34m]\u001b[0m\u001b[0;34m,\u001b[0m \u001b[0;34m'co-'\u001b[0m\u001b[0;34m)\u001b[0m\u001b[0;34m\u001b[0m\u001b[0;34m\u001b[0m\u001b[0m\n\u001b[0;32m---> 10\u001b[0;31m         \u001b[0mconnectpoints\u001b[0m\u001b[0;34m(\u001b[0m\u001b[0mi\u001b[0m\u001b[0;34m[\u001b[0m\u001b[0;36m0\u001b[0m\u001b[0;34m]\u001b[0m\u001b[0;34m,\u001b[0m \u001b[0mi\u001b[0m\u001b[0;34m[\u001b[0m\u001b[0;36m1\u001b[0m\u001b[0;34m]\u001b[0m\u001b[0;34m,\u001b[0m \u001b[0mprev\u001b[0m\u001b[0;34m[\u001b[0m\u001b[0;36m0\u001b[0m\u001b[0;34m]\u001b[0m\u001b[0;34m,\u001b[0m \u001b[0mprev\u001b[0m\u001b[0;34m[\u001b[0m\u001b[0;36m1\u001b[0m\u001b[0;34m]\u001b[0m\u001b[0;34m)\u001b[0m\u001b[0;34m\u001b[0m\u001b[0;34m\u001b[0m\u001b[0m\n\u001b[0m\u001b[1;32m     11\u001b[0m         \u001b[0mprev\u001b[0m \u001b[0;34m=\u001b[0m \u001b[0mi\u001b[0m\u001b[0;34m\u001b[0m\u001b[0;34m\u001b[0m\u001b[0m\n\u001b[1;32m     12\u001b[0m \u001b[0;34m\u001b[0m\u001b[0m\n",
      "\u001b[0;32m/tmp/ipykernel_7090/3760185066.py\u001b[0m in \u001b[0;36mconnectpoints\u001b[0;34m(x, y, p1, p2)\u001b[0m\n\u001b[1;32m      1\u001b[0m \u001b[0;32mdef\u001b[0m \u001b[0mconnectpoints\u001b[0m\u001b[0;34m(\u001b[0m\u001b[0mx\u001b[0m\u001b[0;34m,\u001b[0m\u001b[0my\u001b[0m\u001b[0;34m,\u001b[0m\u001b[0mp1\u001b[0m\u001b[0;34m,\u001b[0m\u001b[0mp2\u001b[0m\u001b[0;34m)\u001b[0m\u001b[0;34m:\u001b[0m\u001b[0;34m\u001b[0m\u001b[0;34m\u001b[0m\u001b[0m\n\u001b[0;32m----> 2\u001b[0;31m     \u001b[0mx1\u001b[0m\u001b[0;34m,\u001b[0m \u001b[0mx2\u001b[0m \u001b[0;34m=\u001b[0m \u001b[0mx\u001b[0m\u001b[0;34m[\u001b[0m\u001b[0mp1\u001b[0m\u001b[0;34m]\u001b[0m\u001b[0;34m,\u001b[0m \u001b[0mx\u001b[0m\u001b[0;34m[\u001b[0m\u001b[0mp2\u001b[0m\u001b[0;34m]\u001b[0m\u001b[0;34m\u001b[0m\u001b[0;34m\u001b[0m\u001b[0m\n\u001b[0m\u001b[1;32m      3\u001b[0m     \u001b[0my1\u001b[0m\u001b[0;34m,\u001b[0m \u001b[0my2\u001b[0m \u001b[0;34m=\u001b[0m \u001b[0my\u001b[0m\u001b[0;34m[\u001b[0m\u001b[0mp1\u001b[0m\u001b[0;34m]\u001b[0m\u001b[0;34m,\u001b[0m \u001b[0my\u001b[0m\u001b[0;34m[\u001b[0m\u001b[0mp2\u001b[0m\u001b[0;34m]\u001b[0m\u001b[0;34m\u001b[0m\u001b[0;34m\u001b[0m\u001b[0m\n\u001b[1;32m      4\u001b[0m     \u001b[0mplt\u001b[0m\u001b[0;34m.\u001b[0m\u001b[0mplot\u001b[0m\u001b[0;34m(\u001b[0m\u001b[0;34m[\u001b[0m\u001b[0mx1\u001b[0m\u001b[0;34m,\u001b[0m\u001b[0mx2\u001b[0m\u001b[0;34m]\u001b[0m\u001b[0;34m,\u001b[0m\u001b[0;34m[\u001b[0m\u001b[0my1\u001b[0m\u001b[0;34m,\u001b[0m\u001b[0my2\u001b[0m\u001b[0;34m]\u001b[0m\u001b[0;34m,\u001b[0m\u001b[0;34m'k-'\u001b[0m\u001b[0;34m)\u001b[0m\u001b[0;34m\u001b[0m\u001b[0;34m\u001b[0m\u001b[0m\n\u001b[1;32m      5\u001b[0m \u001b[0;34m\u001b[0m\u001b[0m\n",
      "\u001b[0;31mTypeError\u001b[0m: 'float' object is not subscriptable"
     ]
    },
    {
     "data": {
      "image/png": "[encoded data removed]",
      "text/plain": [
       "<Figure size 640x480 with 1 Axes>"
      ]
     },
     "metadata": {},
     "output_type": "display_data"
    }
   ],
   "source": [
    "def main():\n",
    "    # generate_random_coords(100)\n",
    "    nodes, place = tsp_read(\"Data/Rajasthan.tsp\")\n",
    "    coords = np.array(nodes) \n",
    "    n = len(coords)\n",
    "    # Distance Array\n",
    "    dist = np.zeros((n, n), dtype=float)\n",
    "    \n",
    "    for i in range(n):\n",
    "        for j in range(i+1, n):\n",
    "            dist[i, j] = euclidean_distance(nodes, i, j)\n",
    "            dist[j, i] = dist[i, j]\n",
    "    \n",
    "    start = time.time_ns()\n",
    "    best_path, best_cost = simulated_annealing(nodes, dist, n)\n",
    "    end = time.time_ns()\n",
    "    print('Execution Time:', end-start)\n",
    "    print('Best Path:', best_path)\n",
    "    print('Best Cost:', best_cost)\n",
    "    graph(nodes, best_path)\n",
    "#     sa.simulated_annealing()\n",
    "#     sa.display_optimal_path()\n",
    "#     sa.animateSolutions()\n",
    "#     sa.plot_learning()\n",
    "\n",
    "\n",
    "if __name__ == \"__main__\":\n",
    "    main()"
   ]
  },
  {
   "cell_type": "code",
   "execution_count": null,
   "id": "30dab9dd",
   "metadata": {},
   "outputs": [],
   "source": []
  },
  {
   "cell_type": "code",
   "execution_count": null,
   "id": "94a32e41",
   "metadata": {},
   "outputs": [],
   "source": []
  }
 ],
 "metadata": {
  "kernelspec": {
   "display_name": "Python 3 (ipykernel)",
   "language": "python",
   "name": "python3"
  },
  "language_info": {
   "codemirror_mode": {
    "name": "ipython",
    "version": 3
   },
   "file_extension": ".py",
   "mimetype": "text/x-python",
   "name": "python",
   "nbconvert_exporter": "python",
   "pygments_lexer": "ipython3",
   "version": "3.9.13"
  }
 },
 "nbformat": 4,
 "nbformat_minor": 5
}
